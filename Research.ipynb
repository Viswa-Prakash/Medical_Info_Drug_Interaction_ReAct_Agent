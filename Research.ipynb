{
 "cells": [
  {
   "cell_type": "code",
   "execution_count": 1,
   "id": "7abaa012",
   "metadata": {},
   "outputs": [],
   "source": [
    "import os\n",
    "from dotenv import load_dotenv\n",
    "load_dotenv()\n",
    "\n",
    "os.environ[\"OPENAI_API_KEY\"] = os.getenv(\"OPENAI_API_KEY\")\n",
    "os.environ[\"SERPER_API_KEY\"] = os.getenv(\"SERPER_API_KEY\")\n",
    "os.environ[\"GOOGLE_CSE_ID\"] = os.getenv(\"GOOGLE_CSE_ID\")\n",
    "os.environ[\"GOOGLE_API_KEY\"] = os.getenv(\"GOOGLE_API_KEY\")\n",
    "os.environ[\"TAVILY_API_KEY\"] = os.getenv(\"TAVILY_API_KEY\")"
   ]
  },
  {
   "cell_type": "code",
   "execution_count": 2,
   "id": "b03ba8b2",
   "metadata": {},
   "outputs": [],
   "source": [
    "from typing_extensions import TypedDict, Annotated\n",
    "\n",
    "from langchain.chat_models import init_chat_model\n",
    "from langchain.tools import Tool\n",
    "from langchain_core.messages import HumanMessage, AIMessage, AnyMessage\n",
    "\n",
    "from langchain_community.utilities import GoogleSerperAPIWrapper\n",
    "from langchain_google_community import GoogleSearchAPIWrapper\n",
    "from langchain_community.tools import WikipediaQueryRun\n",
    "from langchain_community.utilities import WikipediaAPIWrapper\n",
    "from langchain_tavily import TavilySearch\n",
    "\n",
    "from langgraph.graph import StateGraph, END, START\n",
    "from langgraph.prebuilt import ToolNode\n",
    "from langgraph.graph.message import add_messages\n",
    "\n",
    "from IPython.display import Image, display"
   ]
  },
  {
   "cell_type": "code",
   "execution_count": 3,
   "id": "3810d000",
   "metadata": {},
   "outputs": [],
   "source": [
    "llm = init_chat_model(\"gpt-4.1\", temperature=0.7)"
   ]
  },
  {
   "cell_type": "code",
   "execution_count": 4,
   "id": "485c933a",
   "metadata": {},
   "outputs": [],
   "source": [
    "# Wrap the raw API wrappers with Tool\n",
    "serper_tool = Tool(\n",
    "    name = \"serper\",\n",
    "    func = GoogleSerperAPIWrapper().run,\n",
    "    description = \"Useful for general medical and drug related search queries\"\n",
    ")\n",
    "\n",
    "\n",
    "google_search_tool = Tool(\n",
    "    name = \"google_search\",\n",
    "    func = GoogleSearchAPIWrapper().run,\n",
    "    description = \"Use for searching the web for drug safety, symptoms, and health advice\"\n",
    ")\n",
    "\n",
    "\n",
    "wiki_tool = Tool(\n",
    "    name = \"wiki\",\n",
    "    func = WikipediaQueryRun(api_wrapper=WikipediaAPIWrapper(top_k=10)).run,\n",
    "    description = \"Use for background and encyclopedic information on drugs or conditions\"\n",
    ")\n",
    "\n",
    "\n",
    "tavily_tool = Tool(\n",
    "    name = \"tavily\",\n",
    "    func = TavilySearch().run,\n",
    "    description=\"Use for summarizing recent web results about drug guidance and health risks.\"\n",
    ")\n",
    "\n",
    "# Create the list of properly wrapped Tool instances\n",
    "tools = [serper_tool, google_search_tool, wiki_tool, tavily_tool]"
   ]
  },
  {
   "cell_type": "code",
   "execution_count": 5,
   "id": "b98bbeda",
   "metadata": {},
   "outputs": [],
   "source": [
    "react_prompt = \"\"\"\n",
    "You are a Medical Information and Drug Interaction Advisor agent.\n",
    "...\n",
    "You may use tools...\n",
    "Repeat [Thought → Action → Observation] until you reach a conclusion.\n",
    "**When done, end your reply with the line:**  \n",
    "Final Answer: <summary>\n",
    "Do NOT call any tool after you write your Final Answer.\n",
    "\"\"\""
   ]
  },
  {
   "cell_type": "code",
   "execution_count": 6,
   "id": "c5ff732d",
   "metadata": {},
   "outputs": [],
   "source": [
    "class State(TypedDict):\n",
    "    messages : Annotated[list[AnyMessage], add_messages]"
   ]
  },
  {
   "cell_type": "code",
   "execution_count": 7,
   "id": "770389c9",
   "metadata": {},
   "outputs": [],
   "source": [
    "def reasoning_node(state: State):\n",
    "    # LLM with bound tools to enable tool-calling\n",
    "    llm_with_tools = llm.bind_tools(tools)\n",
    "    messages = [{\"role\": \"system\", \"content\": react_prompt}] + state[\"messages\"]\n",
    "    response = llm_with_tools.invoke(messages)\n",
    "    return {\"messages\": state[\"messages\"] + [response]}"
   ]
  },
  {
   "cell_type": "code",
   "execution_count": 8,
   "id": "8fbaeb74",
   "metadata": {},
   "outputs": [],
   "source": [
    "tool_node = ToolNode(tools = tools)"
   ]
  },
  {
   "cell_type": "code",
   "execution_count": 9,
   "id": "987a2f9c",
   "metadata": {},
   "outputs": [],
   "source": [
    "def should_continue(state: State):\n",
    "    last_message = state[\"messages\"][-1]\n",
    "    # 1. If message content signals final answer, stop\n",
    "    if hasattr(last_message, \"content\") and \"final answer:\" in last_message.content.lower():\n",
    "        return \"end\"\n",
    "    # 2. If there is a tool_call to run, do action step\n",
    "    if hasattr(last_message, \"tool_calls\") and last_message.tool_calls:\n",
    "        return \"action\"\n",
    "    # 3. (Fail-safe) Stop after excessive steps to prevent infinite loop\n",
    "    if len(state[\"messages\"]) > 20:\n",
    "        return \"end\"\n",
    "    # 4. Otherwise, reason again (e.g. if agent is just thinking)\n",
    "    return \"reason\""
   ]
  },
  {
   "cell_type": "code",
   "execution_count": 10,
   "id": "2226b430",
   "metadata": {
    "vscode": {
     "languageId": "ruby"
    }
   },
   "outputs": [
    {
     "data": {
      "image/png": "[encoded data removed]",
      "text/plain": [
       "<IPython.core.display.Image object>"
      ]
     },
     "metadata": {},
     "output_type": "display_data"
    }
   ],
   "source": [
    "builder = StateGraph(State)\n",
    "builder.add_node(\"reason\", reasoning_node)\n",
    "builder.add_node(\"action\", tool_node)\n",
    "builder.set_entry_point(\"reason\")\n",
    "builder.add_conditional_edges(\n",
    "    \"reason\",\n",
    "    should_continue,\n",
    "    {\n",
    "        \"action\": \"action\",\n",
    "        \"end\": END,\n",
    "    }\n",
    ")\n",
    "builder.add_edge(\"action\", \"reason\")\n",
    "medical_agent = builder.compile()\n",
    "\n",
    "display(Image(medical_agent.get_graph().draw_mermaid_png()))"
   ]
  },
  {
   "cell_type": "code",
   "execution_count": 11,
   "id": "3c974bfe",
   "metadata": {},
   "outputs": [
    {
     "name": "stdout",
     "output_type": "stream",
     "text": [
      "Thought: There is a moderate interaction between ibuprofen (a non-steroidal anti-inflammatory drug, NSAID) and amlodipine (a blood pressure medication). NSAIDs like ibuprofen can reduce the effectiveness of antihypertensive medications and may increase the risk of kidney problems, especially if used frequently or in people with underlying kidney issues or heart problems.\n",
      "\n",
      "Current guidance suggests that for people with hypertension, paracetamol (acetaminophen) is generally considered a safer alternative to NSAIDs for pain relief, as NSAIDs can raise blood pressure and blunt the effect of blood pressure medications. However, even acetaminophen may raise blood pressure slightly if taken regularly in high doses.\n",
      "\n",
      "Final Answer: Ibuprofen can interact with amlodipine by potentially reducing its effectiveness and increasing the risk of kidney issues, so it should be used with caution if you have hypertension. Current guidelines recommend using acetaminophen (paracetamol) as the first-line over-the-counter painkiller for people with high blood pressure, while limiting NSAID use unless advised by your healthcare provider. Always consult your doctor or pharmacist before regularly using any painkillers if you have hypertension.\n"
     ]
    }
   ],
   "source": [
    "query = (\n",
    "    \"I take ibuprofen for headaches but also use amlodipine for blood pressure. \"\n",
    "    \"Is it safe to take both? What’s the current guidance on non-prescription painkillers for hypertension?\"\n",
    ")\n",
    "\n",
    "state = {\"messages\": [HumanMessage(content=query)]}\n",
    "result = medical_agent.invoke(state)\n",
    "\n",
    "print(result[\"messages\"][-1].content)\n"
   ]
  },
  {
   "cell_type": "code",
   "execution_count": 12,
   "id": "8346d0ce",
   "metadata": {},
   "outputs": [
    {
     "name": "stdout",
     "output_type": "stream",
     "text": [
      "NSAIDs stands for Non-Steroidal Anti-Inflammatory Drugs. They are a class of medications used to reduce pain, decrease inflammation, lower fever, and prevent blood clots. Common examples include aspirin, ibuprofen, diclofenac, and naproxen—all widely available over the counter.\n",
      "\n",
      "NSAIDs work by inhibiting cyclooxygenase (COX) enzymes, which are involved in the production of substances (prostaglandins and thromboxanes) that mediate inflammation and blood clotting. There are two main types: non-selective NSAIDs (which inhibit both COX-1 and COX-2 enzymes) and COX-2 selective inhibitors.\n",
      "\n",
      "While effective, NSAIDs can have side effects, such as increased risk of gastrointestinal ulcers and bleeding, heart attack, kidney problems, and, depending on the drug, increased risk of blood clots.\n",
      "\n",
      "Final Answer: NSAIDs are non-steroidal anti-inflammatory drugs used to reduce pain, inflammation, and fever, but they can have side effects like gastrointestinal issues, kidney problems, and increased heart risks. Examples include ibuprofen, aspirin, diclofenac, and naproxen.\n"
     ]
    }
   ],
   "source": [
    "query = (\"what is NSAIDs?\")\n",
    "\n",
    "state = {\"messages\": [HumanMessage(content=query)]}\n",
    "result = medical_agent.invoke(state)\n",
    "\n",
    "print(result[\"messages\"][-1].content)\n"
   ]
  },
  {
   "cell_type": "code",
   "execution_count": null,
   "id": "01584f44",
   "metadata": {},
   "outputs": [],
   "source": []
  }
 ],
 "metadata": {
  "kernelspec": {
   "display_name": "reactagent",
   "language": "python",
   "name": "python3"
  },
  "language_info": {
   "codemirror_mode": {
    "name": "ipython",
    "version": 3
   },
   "file_extension": ".py",
   "mimetype": "text/x-python",
   "name": "python",
   "nbconvert_exporter": "python",
   "pygments_lexer": "ipython3",
   "version": "3.13.0"
  }
 },
 "nbformat": 4,
 "nbformat_minor": 5
}
